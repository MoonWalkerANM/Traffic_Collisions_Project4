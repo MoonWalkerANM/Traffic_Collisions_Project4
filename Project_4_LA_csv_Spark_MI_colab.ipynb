{
  "nbformat": 4,
  "nbformat_minor": 0,
  "metadata": {
    "colab": {
      "provenance": []
    },
    "kernelspec": {
      "name": "python3",
      "display_name": "Python 3"
    },
    "language_info": {
      "name": "python"
    }
  },
  "cells": [
    {
      "cell_type": "code",
      "source": [
        "!pip install pyspark"
      ],
      "metadata": {
        "colab": {
          "base_uri": "https://localhost:8080/"
        },
        "id": "3E4HqoDT6Vi1",
        "outputId": "bae3da0d-375c-4e47-a88b-45d28120cc9e"
      },
      "execution_count": 2,
      "outputs": [
        {
          "output_type": "stream",
          "name": "stdout",
          "text": [
            "Collecting pyspark\n",
            "  Downloading pyspark-3.5.2.tar.gz (317.3 MB)\n",
            "\u001b[2K     \u001b[90m━━━━━━━━━━━━━━━━━━━━━━━━━━━━━━━━━━━━━━━━\u001b[0m \u001b[32m317.3/317.3 MB\u001b[0m \u001b[31m4.1 MB/s\u001b[0m eta \u001b[36m0:00:00\u001b[0m\n",
            "\u001b[?25h  Preparing metadata (setup.py) ... \u001b[?25l\u001b[?25hdone\n",
            "Requirement already satisfied: py4j==0.10.9.7 in /usr/local/lib/python3.10/dist-packages (from pyspark) (0.10.9.7)\n",
            "Building wheels for collected packages: pyspark\n",
            "  Building wheel for pyspark (setup.py) ... \u001b[?25l\u001b[?25hdone\n",
            "  Created wheel for pyspark: filename=pyspark-3.5.2-py2.py3-none-any.whl size=317812365 sha256=2ad6e17bc054851be8c8b77281980ae597440bf8443d3ff92a1ba6299e850332\n",
            "  Stored in directory: /root/.cache/pip/wheels/34/34/bd/03944534c44b677cd5859f248090daa9fb27b3c8f8e5f49574\n",
            "Successfully built pyspark\n",
            "Installing collected packages: pyspark\n",
            "Successfully installed pyspark-3.5.2\n"
          ]
        }
      ]
    },
    {
      "cell_type": "markdown",
      "source": [
        "# Reading the csv file for URL and creating spark dataframe\n"
      ],
      "metadata": {
        "id": "iBUJBh7qJ3BW"
      }
    },
    {
      "cell_type": "code",
      "execution_count": 3,
      "metadata": {
        "id": "DAiBYiQ66CrN"
      },
      "outputs": [],
      "source": [
        "# Import necessary libraries\n",
        "from pyspark.sql import SparkSession\n",
        "import pandas as pd\n",
        "import numpy as np\n",
        "from sklearn.ensemble import RandomForestClassifier\n",
        "from sklearn.metrics import confusion_matrix, accuracy_score, classification_report\n",
        "from pyspark.ml.feature import VectorAssembler, StandardScaler\n",
        "from pyspark.ml import Pipeline\n",
        "from pyspark.ml.feature import StringIndexer\n",
        "import requests"
      ]
    },
    {
      "cell_type": "code",
      "source": [
        "# Initialize Spark session\n",
        "spark = SparkSession.builder \\\n",
        "    .appName(\"ReadCSVFromURL\") \\\n",
        "    .getOrCreate()"
      ],
      "metadata": {
        "id": "tEY8XKqcJAfb"
      },
      "execution_count": 4,
      "outputs": []
    },
    {
      "cell_type": "code",
      "source": [
        "# URL of the CSV file\n",
        "url = \"https://raw.githubusercontent.com/MoonWalkerANM/Traffic_Collisions_Project4/main/collisions_df_la.csv\""
      ],
      "metadata": {
        "id": "i91BLvBzJR-G"
      },
      "execution_count": 5,
      "outputs": []
    },
    {
      "cell_type": "code",
      "source": [
        "# Fetch the content from the URL\n",
        "response = requests.get(url)"
      ],
      "metadata": {
        "id": "FJB6PpTEJYj_"
      },
      "execution_count": 6,
      "outputs": []
    },
    {
      "cell_type": "code",
      "source": [
        "# Create a temporary file to write on it and store the file path\n",
        "import tempfile\n",
        "with tempfile.NamedTemporaryFile(mode='w', delete=False) as temp_file:\n",
        "    temp_file.write(response.text)\n",
        "    temp_file_path = temp_file.name"
      ],
      "metadata": {
        "id": "kvN7ujNCJi9I"
      },
      "execution_count": 7,
      "outputs": []
    },
    {
      "cell_type": "code",
      "source": [
        "# Read the CSV content from the temporary file into a Spark DataFrame\n",
        "df_spark = spark.read.csv(temp_file_path, header=True, inferSchema=True)"
      ],
      "metadata": {
        "id": "WeVoT9SOJm6U"
      },
      "execution_count": 8,
      "outputs": []
    },
    {
      "cell_type": "code",
      "source": [
        "# Show the DataFrame schema and first few rows\n",
        "df_spark.printSchema()\n",
        "df_spark.show()"
      ],
      "metadata": {
        "colab": {
          "base_uri": "https://localhost:8080/"
        },
        "id": "Dp8L1LOjJqI7",
        "outputId": "9534b761-f43c-4d93-ebf9-ccf7debda4ab"
      },
      "execution_count": 9,
      "outputs": [
        {
          "output_type": "stream",
          "name": "stdout",
          "text": [
            "root\n",
            " |-- Severity: integer (nullable = true)\n",
            " |-- End_Time: timestamp (nullable = true)\n",
            " |-- End_Lat: double (nullable = true)\n",
            " |-- End_Lng: double (nullable = true)\n",
            " |-- Distance(mi): double (nullable = true)\n",
            " |-- Description: string (nullable = true)\n",
            " |-- Street: string (nullable = true)\n",
            " |-- City: string (nullable = true)\n",
            " |-- County: string (nullable = true)\n",
            " |-- State: string (nullable = true)\n",
            " |-- Zipcode: string (nullable = true)\n",
            " |-- Temperature(F): double (nullable = true)\n",
            " |-- Visibility(mi): double (nullable = true)\n",
            " |-- Wind_Speed(mph): double (nullable = true)\n",
            " |-- Weather_Condition: string (nullable = true)\n",
            " |-- Railway: boolean (nullable = true)\n",
            " |-- Stop: boolean (nullable = true)\n",
            " |-- Traffic_Signal: boolean (nullable = true)\n",
            " |-- Sunrise_Sunset: string (nullable = true)\n",
            " |-- Day: integer (nullable = true)\n",
            " |-- Month: integer (nullable = true)\n",
            " |-- Year: integer (nullable = true)\n",
            " |-- Weekday/Weekend: string (nullable = true)\n",
            " |-- Day_of_the_Week: string (nullable = true)\n",
            " |-- Left_Zipcode: integer (nullable = true)\n",
            "\n",
            "+--------+-------------------+------------------+-------------------+------------------+--------------------+--------------------+-----------+-----------+-----+----------+--------------+--------------+---------------+-----------------+-------+-----+--------------+--------------+---+-----+----+---------------+---------------+------------+\n",
            "|Severity|           End_Time|           End_Lat|            End_Lng|      Distance(mi)|         Description|              Street|       City|     County|State|   Zipcode|Temperature(F)|Visibility(mi)|Wind_Speed(mph)|Weather_Condition|Railway| Stop|Traffic_Signal|Sunrise_Sunset|Day|Month|Year|Weekday/Weekend|Day_of_the_Week|Left_Zipcode|\n",
            "+--------+-------------------+------------------+-------------------+------------------+--------------------+--------------------+-----------+-----------+-----+----------+--------------+--------------+---------------+-----------------+-------+-----+--------------+--------------+---+-----+----+---------------+---------------+------------+\n",
            "|       2|2022-08-22 10:11:00|         34.053044|        -118.228279|0.6920000000000001|Stationary traffi...|San Bernardino Fwy W|Los Angeles|Los Angeles|   CA|     90033|          67.0|           7.0|            0.0|           Cloudy|  false|false|         false|           Day| 22|    8|2022|        Weekday|         Monday|       90033|\n",
            "|       2|2022-08-01 11:02:30|         34.053044|        -118.228279|             0.754|Stationary traffi...|San Bernardino Fwy W|Los Angeles|Los Angeles|   CA|     90033|          78.0|          10.0|            0.0|             Fair|  false|false|         false|           Day|  1|    8|2022|        Weekday|         Monday|       90033|\n",
            "|       2|2022-07-27 11:23:00|         34.053044|        -118.228279|             0.835|Stationary traffi...|San Bernardino Fwy W|Los Angeles|Los Angeles|   CA|     90033|          63.0|           8.0|            0.0|    Partly Cloudy|  false|false|         false|         Night| 27|    7|2022|        Weekday|      Wednesday|       90033|\n",
            "|       2|2022-06-29 11:13:00|         34.053044|        -118.228279|              1.45|Stationary traffi...|           N Soto St|Los Angeles|Los Angeles|   CA|     90033|          64.0|           6.0|            0.0|           Cloudy|  false|false|          true|         Night| 29|    6|2022|        Weekday|      Wednesday|       90033|\n",
            "|       2|2022-04-18 19:34:30|         34.053044|        -118.228279|             0.297|Stationary traffi...|E Cesar E Chavez Ave|Los Angeles|Los Angeles|   CA|     90033|          64.0|          10.0|            5.0|             Fair|  false|false|         false|           Day| 18|    4|2022|        Weekday|         Monday|       90033|\n",
            "|       2|2022-11-02 11:11:00|         34.025651|        -118.465336|             1.651|Slow traffic on I...|              I-10 W|Los Angeles|Los Angeles|   CA|     90064|          58.0|           3.0|            3.0|           Cloudy|  false|false|         false|         Night|  2|   11|2022|        Weekday|      Wednesday|       90064|\n",
            "|       2|2022-11-19 05:51:12|         33.909149|        -118.278371|             0.016|Incident on W 135...|          W 135th St|Los Angeles|Los Angeles|   CA|90061-1625|          50.0|           8.0|            0.0|             Fair|  false|false|          true|         Night| 19|   11|2022|        Weekend|       Saturday|       90061|\n",
            "|       2|2022-05-18 18:38:00|          33.98237|        -118.281096|             0.307|Slow traffic from...|          W Gage Ave|Los Angeles|Los Angeles|   CA|90044-5441|          66.0|          10.0|            9.0|             Fair|  false|false|         false|           Day| 18|    5|2022|        Weekday|      Wednesday|       90044|\n",
            "|       2|2022-04-07 21:34:41|         33.989161|        -118.282188|             0.153|Slow traffic from...|       W Slauson Ave|Los Angeles|Los Angeles|   CA|90044-6359|          78.0|          10.0|            7.0|             Fair|  false|false|         false|         Night|  7|    4|2022|        Weekday|       Thursday|       90044|\n",
            "|       2|2022-02-11 15:29:30|         33.989153|        -118.280806|             0.294|Stationary traffi...|       W Slauson Ave|Los Angeles|Los Angeles|   CA|90044-6360|          78.0|          10.0|            7.0|             Fair|  false|false|         false|           Day| 11|    2|2022|        Weekday|         Friday|       90044|\n",
            "|       2|2022-04-29 15:41:01| 34.07088140570606|-118.46517852978484|0.1639999999999999|Accident on Morag...|               I-405|Los Angeles|Los Angeles|   CA|     90049|          65.0|          10.0|           10.0|             Fair|  false|false|         false|           Day| 29|    4|2022|        Weekday|         Friday|       90049|\n",
            "|       2|2022-02-21 04:00:29|34.070896999999995|        -118.465183|             0.131|Accident on Morag...|             I-405 S|Los Angeles|Los Angeles|   CA|     90049|          55.0|          10.0|            0.0|           Cloudy|  false|false|         false|         Night| 21|    2|2022|        Weekday|         Monday|       90049|\n",
            "|       2|2022-09-07 20:18:48|         33.958224|        -118.248968|             0.142|Accident on John ...|           E 89th St|Los Angeles|Los Angeles|   CA|90002-1225|          82.0|          10.0|            7.0|             Fair|  false|false|         false|           Day|  7|    9|2022|        Weekday|      Wednesday|       90002|\n",
            "|       2|2022-09-02 00:01:38|         33.958212|         -118.25062|             0.141|Accident on Plevk...|          Plevka Ave|Los Angeles|Los Angeles|   CA|90002-1252|          80.0|          10.0|            5.0|             Fair|  false|false|         false|         Night|  2|    9|2022|        Weekday|         Friday|       90002|\n",
            "|       2|2022-07-06 21:19:58|          33.96015|         -118.24195|             0.112|Accident on Beach...|           E 87th St|Los Angeles|Los Angeles|   CA|90002-1401|          70.0|          10.0|           12.0|             Fair|  false|false|         false|           Day|  6|    7|2022|        Weekday|      Wednesday|       90002|\n",
            "|       2|2022-05-28 15:15:00|         33.958531|         -118.24308|             0.108|Accident from E 8...|          Graham Ave|Los Angeles|Los Angeles|   CA|90002-1456|          66.0|          10.0|            5.0|           Cloudy|  false|false|         false|           Day| 28|    5|2022|        Weekend|       Saturday|       90002|\n",
            "|       2|2022-04-16 12:56:15| 34.10056450919097|-118.47799368069418|             0.966|Incident on I-405...|               I-405|Los Angeles|Los Angeles|   CA|     90049|          61.0|          10.0|            5.0|             Fair|  false|false|         false|           Day| 16|    4|2022|        Weekend|       Saturday|       90049|\n",
            "|       2|2022-02-07 13:29:00|         34.037002|         -118.27098|             2.595|Slow traffic on S...|              I-10 E|Los Angeles|Los Angeles|   CA|     90018|          75.0|          10.0|            3.0|             Fair|  false|false|         false|           Day|  7|    2|2022|        Weekday|         Monday|       90018|\n",
            "|       2|2022-08-02 18:39:24|         34.068894|        -118.149849|             3.543|Slow traffic on S...|San Bernardino Fwy E|Los Angeles|Los Angeles|   CA|     90033|          78.0|          10.0|            0.0|             Fair|  false|false|         false|           Day|  2|    8|2022|        Weekday|        Tuesday|       90033|\n",
            "|       2|2022-02-17 20:53:00|         34.068038|        -118.151475|3.0660000000000003|Slow traffic on S...|              I-10 E|Los Angeles|Los Angeles|   CA|     90033|          67.0|          10.0|            6.0|             Fair|  false|false|          true|           Day| 17|    2|2022|        Weekday|       Thursday|       90033|\n",
            "+--------+-------------------+------------------+-------------------+------------------+--------------------+--------------------+-----------+-----------+-----+----------+--------------+--------------+---------------+-----------------+-------+-----+--------------+--------------+---+-----+----+---------------+---------------+------------+\n",
            "only showing top 20 rows\n",
            "\n"
          ]
        }
      ]
    },
    {
      "cell_type": "markdown",
      "source": [
        "# Data Preprocessing"
      ],
      "metadata": {
        "id": "jWWh4k4VJvZZ"
      }
    },
    {
      "cell_type": "code",
      "source": [
        "# Select feature columns and target variable\n",
        "feature_columns = ['End_Lat', 'End_Lng', 'Left_Zipcode']\n",
        "target_column = 'Severity'"
      ],
      "metadata": {
        "id": "YQ-lu78vKFaQ"
      },
      "execution_count": 10,
      "outputs": []
    },
    {
      "cell_type": "code",
      "source": [
        "# Assemble features into a vector\n",
        "assembler = VectorAssembler(inputCols=feature_columns, outputCol='features')"
      ],
      "metadata": {
        "id": "v1PdKCt2KI3B"
      },
      "execution_count": 11,
      "outputs": []
    },
    {
      "cell_type": "code",
      "source": [
        "# Create the feature vector\n",
        "df_features = assembler.transform(df_spark)"
      ],
      "metadata": {
        "id": "B64jNDlHKLIE"
      },
      "execution_count": 12,
      "outputs": []
    },
    {
      "cell_type": "code",
      "source": [
        "# Index the target variable\n",
        "indexer = StringIndexer(inputCol=target_column, outputCol='label')\n",
        "\n",
        "# Transform the data to include the indexed label\n",
        "df_indexed = indexer.fit(df_features).transform(df_features)"
      ],
      "metadata": {
        "id": "IuD-qxVDKM5u"
      },
      "execution_count": 13,
      "outputs": []
    },
    {
      "cell_type": "code",
      "source": [
        "# Select only the features and label columns\n",
        "df_final = df_indexed.select('features', 'label')"
      ],
      "metadata": {
        "id": "VYWRPy3KQhhr"
      },
      "execution_count": 14,
      "outputs": []
    },
    {
      "cell_type": "markdown",
      "source": [
        "# Spliting the Data\n"
      ],
      "metadata": {
        "id": "z7iYtoplQrxx"
      }
    },
    {
      "cell_type": "code",
      "source": [
        "# Split the data into tranin and test randomly\n",
        "train_df, test_df = df_final.randomSplit([0.8, 0.2], seed=78)"
      ],
      "metadata": {
        "id": "E52kJBzWQwMn"
      },
      "execution_count": 15,
      "outputs": []
    },
    {
      "cell_type": "markdown",
      "source": [
        "# Scaling the Features\n"
      ],
      "metadata": {
        "id": "vligptnXQ4mC"
      }
    },
    {
      "cell_type": "code",
      "source": [
        "# Use StandardScaler to scale the features\n",
        "scaler = StandardScaler(inputCol='features', outputCol='scaled_features')\n",
        "\n",
        "# Create the pipeline to include scaling\n",
        "pipeline = Pipeline(stages=[scaler])\n",
        "\n",
        "# Fit the pipeline to the training data\n",
        "scaler_model = pipeline.fit(train_df)\n",
        "\n",
        "# Transform the training and test data\n",
        "train_df_scaled = scaler_model.transform(train_df)\n",
        "test_df_scaled = scaler_model.transform(test_df)"
      ],
      "metadata": {
        "id": "5PaMH7KgQ8lf"
      },
      "execution_count": 18,
      "outputs": []
    },
    {
      "cell_type": "markdown",
      "source": [
        "# Model Training and Evaluation"
      ],
      "metadata": {
        "id": "VEFaw0abKm2u"
      }
    },
    {
      "cell_type": "code",
      "source": [
        "# Convert Spark DataFrames to pandas to use with scikit-learn\n",
        "train_pd = train_df_scaled.toPandas()\n",
        "test_pd = test_df_scaled.toPandas()\n",
        "\n",
        "X_train = train_pd['scaled_features'].tolist()\n",
        "y_train = train_pd['label']\n",
        "\n",
        "X_test = test_pd['scaled_features'].tolist()\n",
        "y_test = test_pd['label']"
      ],
      "metadata": {
        "id": "V6yyj41DRZxu"
      },
      "execution_count": 19,
      "outputs": []
    },
    {
      "cell_type": "code",
      "source": [
        "# Convert the lists to NumPy arrays\n",
        "X_train = np.array([x.toArray() for x in X_train])\n",
        "X_test = np.array([x.toArray() for x in X_test])\n",
        "y_train = np.array(y_train)\n",
        "y_test = np.array(y_test)"
      ],
      "metadata": {
        "id": "Z2SKvawaRtfD"
      },
      "execution_count": 20,
      "outputs": []
    },
    {
      "cell_type": "code",
      "source": [
        "# Train RandomForest model with Scikit-learn\n",
        "# Initialize the Random Forest classifier\n",
        "rf = RandomForestClassifier(n_estimators=500, random_state=78)\n",
        "\n",
        "# Fit the model\n",
        "rf.fit(X_train, y_train)\n",
        "\n",
        "# Make predictions\n",
        "y_pred = rf.predict(X_test)"
      ],
      "metadata": {
        "id": "bB1hl-uSR19N"
      },
      "execution_count": 21,
      "outputs": []
    },
    {
      "cell_type": "code",
      "source": [
        "# Evaluate the model\n",
        "# Calculate confusion matrix, accuracy, and classification report\n",
        "conf_matrix = confusion_matrix(y_test, y_pred)\n",
        "accuracy = accuracy_score(y_test, y_pred)\n",
        "class_report = classification_report(y_test, y_pred)\n",
        "\n",
        "print(\"Confusion Matrix:\")\n",
        "print(conf_matrix)\n",
        "\n",
        "print(f\"Accuracy Score: {accuracy}\")\n",
        "\n",
        "print(\"Classification Report:\")\n",
        "print(class_report)"
      ],
      "metadata": {
        "colab": {
          "base_uri": "https://localhost:8080/"
        },
        "id": "rBC_kseGSfjv",
        "outputId": "a7b82f4f-f30e-442d-9423-69c3612f7fcc"
      },
      "execution_count": 22,
      "outputs": [
        {
          "output_type": "stream",
          "name": "stdout",
          "text": [
            "Confusion Matrix:\n",
            "[[10589    18    16]\n",
            " [   64    10     5]\n",
            " [   35     3    13]]\n",
            "Accuracy Score: 0.9868873802659723\n",
            "Classification Report:\n",
            "              precision    recall  f1-score   support\n",
            "\n",
            "         0.0       0.99      1.00      0.99     10623\n",
            "         1.0       0.32      0.13      0.18        79\n",
            "         2.0       0.38      0.25      0.31        51\n",
            "\n",
            "    accuracy                           0.99     10753\n",
            "   macro avg       0.57      0.46      0.49     10753\n",
            "weighted avg       0.98      0.99      0.98     10753\n",
            "\n"
          ]
        }
      ]
    },
    {
      "cell_type": "markdown",
      "source": [
        "# Remove Temporary File"
      ],
      "metadata": {
        "id": "SDVuJrDoLrpg"
      }
    },
    {
      "cell_type": "code",
      "source": [
        "# Clean up the temporary file\n",
        "import os\n",
        "os.remove(temp_file_path)"
      ],
      "metadata": {
        "id": "GWo_C7nsG3oM"
      },
      "execution_count": 23,
      "outputs": []
    },
    {
      "cell_type": "markdown",
      "source": [
        "# Stop Spark Session\n"
      ],
      "metadata": {
        "id": "AoORbyrpLyWm"
      }
    },
    {
      "cell_type": "code",
      "source": [
        "# Stop Spark session\n",
        "spark.stop()"
      ],
      "metadata": {
        "id": "GAMhKnwEBL2V"
      },
      "execution_count": 24,
      "outputs": []
    }
  ]
}